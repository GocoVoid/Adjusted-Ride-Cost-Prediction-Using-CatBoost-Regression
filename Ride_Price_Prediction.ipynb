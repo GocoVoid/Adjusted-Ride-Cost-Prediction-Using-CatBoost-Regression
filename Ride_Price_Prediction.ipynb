{
 "cells": [
  {
   "cell_type": "code",
   "execution_count": 1,
   "id": "97250e99-18ae-41ff-8edf-37a33a11f9c9",
   "metadata": {},
   "outputs": [
    {
     "name": "stdout",
     "output_type": "stream",
     "text": [
      "Defaulting to user installation because normal site-packages is not writeable\n",
      "Looking in links: /usr/share/pip-wheels\n",
      "Requirement already satisfied: catboost in ./.local/lib/python3.11/site-packages (1.2.8)\n",
      "Requirement already satisfied: graphviz in ./.local/lib/python3.11/site-packages (from catboost) (0.20.3)\n",
      "Requirement already satisfied: matplotlib in /opt/conda/envs/anaconda-panel-2023.05-py310/lib/python3.11/site-packages (from catboost) (3.7.2)\n",
      "Requirement already satisfied: numpy<3.0,>=1.16.0 in /opt/conda/envs/anaconda-panel-2023.05-py310/lib/python3.11/site-packages (from catboost) (1.24.3)\n",
      "Requirement already satisfied: pandas>=0.24 in /opt/conda/envs/anaconda-panel-2023.05-py310/lib/python3.11/site-packages (from catboost) (2.0.3)\n",
      "Requirement already satisfied: scipy in /opt/conda/envs/anaconda-panel-2023.05-py310/lib/python3.11/site-packages (from catboost) (1.11.1)\n",
      "Requirement already satisfied: plotly in /opt/conda/envs/anaconda-panel-2023.05-py310/lib/python3.11/site-packages (from catboost) (5.9.0)\n",
      "Requirement already satisfied: six in /opt/conda/envs/anaconda-panel-2023.05-py310/lib/python3.11/site-packages (from catboost) (1.16.0)\n",
      "Requirement already satisfied: python-dateutil>=2.8.2 in /opt/conda/envs/anaconda-panel-2023.05-py310/lib/python3.11/site-packages (from pandas>=0.24->catboost) (2.8.2)\n",
      "Requirement already satisfied: pytz>=2020.1 in /opt/conda/envs/anaconda-panel-2023.05-py310/lib/python3.11/site-packages (from pandas>=0.24->catboost) (2023.3.post1)\n",
      "Requirement already satisfied: tzdata>=2022.1 in /opt/conda/envs/anaconda-panel-2023.05-py310/lib/python3.11/site-packages (from pandas>=0.24->catboost) (2023.3)\n",
      "Requirement already satisfied: contourpy>=1.0.1 in /opt/conda/envs/anaconda-panel-2023.05-py310/lib/python3.11/site-packages (from matplotlib->catboost) (1.0.5)\n",
      "Requirement already satisfied: cycler>=0.10 in /opt/conda/envs/anaconda-panel-2023.05-py310/lib/python3.11/site-packages (from matplotlib->catboost) (0.11.0)\n",
      "Requirement already satisfied: fonttools>=4.22.0 in /opt/conda/envs/anaconda-panel-2023.05-py310/lib/python3.11/site-packages (from matplotlib->catboost) (4.25.0)\n",
      "Requirement already satisfied: kiwisolver>=1.0.1 in /opt/conda/envs/anaconda-panel-2023.05-py310/lib/python3.11/site-packages (from matplotlib->catboost) (1.4.4)\n",
      "Requirement already satisfied: packaging>=20.0 in /opt/conda/envs/anaconda-panel-2023.05-py310/lib/python3.11/site-packages (from matplotlib->catboost) (23.1)\n",
      "Requirement already satisfied: pillow>=6.2.0 in /opt/conda/envs/anaconda-panel-2023.05-py310/lib/python3.11/site-packages (from matplotlib->catboost) (9.4.0)\n",
      "Requirement already satisfied: pyparsing<3.1,>=2.3.1 in /opt/conda/envs/anaconda-panel-2023.05-py310/lib/python3.11/site-packages (from matplotlib->catboost) (3.0.9)\n",
      "Requirement already satisfied: tenacity>=6.2.0 in /opt/conda/envs/anaconda-panel-2023.05-py310/lib/python3.11/site-packages (from plotly->catboost) (8.2.2)\n"
     ]
    }
   ],
   "source": [
    "!pip install catboost"
   ]
  },
  {
   "cell_type": "code",
   "execution_count": 2,
   "id": "5f38a2dd-2011-4bb2-bd44-39c27c0e9b96",
   "metadata": {},
   "outputs": [],
   "source": [
    "import numpy as np\n",
    "import pandas as pd\n",
    "import matplotlib.pyplot as plt\n",
    "import seaborn as sns"
   ]
  },
  {
   "cell_type": "markdown",
   "id": "3c33f458-723c-4b88-b0ae-1deca79d64f1",
   "metadata": {},
   "source": [
    "**Importing Data and Performing EDA**"
   ]
  },
  {
   "cell_type": "code",
   "execution_count": 3,
   "id": "c6d94a28-e0fc-44be-9bfd-05cbe985c375",
   "metadata": {},
   "outputs": [],
   "source": [
    "df = pd.read_csv('dynamic_pricing.csv')"
   ]
  },
  {
   "cell_type": "code",
   "execution_count": 4,
   "id": "44870249-8af6-4f72-b6ea-0e30303feb1c",
   "metadata": {},
   "outputs": [
    {
     "data": {
      "text/html": [
       "<div>\n",
       "<style scoped>\n",
       "    .dataframe tbody tr th:only-of-type {\n",
       "        vertical-align: middle;\n",
       "    }\n",
       "\n",
       "    .dataframe tbody tr th {\n",
       "        vertical-align: top;\n",
       "    }\n",
       "\n",
       "    .dataframe thead th {\n",
       "        text-align: right;\n",
       "    }\n",
       "</style>\n",
       "<table border=\"1\" class=\"dataframe\">\n",
       "  <thead>\n",
       "    <tr style=\"text-align: right;\">\n",
       "      <th></th>\n",
       "      <th>Number_of_Riders</th>\n",
       "      <th>Number_of_Drivers</th>\n",
       "      <th>Location_Category</th>\n",
       "      <th>Customer_Loyalty_Status</th>\n",
       "      <th>Number_of_Past_Rides</th>\n",
       "      <th>Average_Ratings</th>\n",
       "      <th>Time_of_Booking</th>\n",
       "      <th>Vehicle_Type</th>\n",
       "      <th>Expected_Ride_Duration</th>\n",
       "      <th>Historical_Cost_of_Ride</th>\n",
       "    </tr>\n",
       "  </thead>\n",
       "  <tbody>\n",
       "    <tr>\n",
       "      <th>0</th>\n",
       "      <td>90</td>\n",
       "      <td>45</td>\n",
       "      <td>Urban</td>\n",
       "      <td>Silver</td>\n",
       "      <td>13</td>\n",
       "      <td>4.47</td>\n",
       "      <td>Night</td>\n",
       "      <td>Premium</td>\n",
       "      <td>90</td>\n",
       "      <td>284.257273</td>\n",
       "    </tr>\n",
       "    <tr>\n",
       "      <th>1</th>\n",
       "      <td>58</td>\n",
       "      <td>39</td>\n",
       "      <td>Suburban</td>\n",
       "      <td>Silver</td>\n",
       "      <td>72</td>\n",
       "      <td>4.06</td>\n",
       "      <td>Evening</td>\n",
       "      <td>Economy</td>\n",
       "      <td>43</td>\n",
       "      <td>173.874753</td>\n",
       "    </tr>\n",
       "    <tr>\n",
       "      <th>2</th>\n",
       "      <td>42</td>\n",
       "      <td>31</td>\n",
       "      <td>Rural</td>\n",
       "      <td>Silver</td>\n",
       "      <td>0</td>\n",
       "      <td>3.99</td>\n",
       "      <td>Afternoon</td>\n",
       "      <td>Premium</td>\n",
       "      <td>76</td>\n",
       "      <td>329.795469</td>\n",
       "    </tr>\n",
       "    <tr>\n",
       "      <th>3</th>\n",
       "      <td>89</td>\n",
       "      <td>28</td>\n",
       "      <td>Rural</td>\n",
       "      <td>Regular</td>\n",
       "      <td>67</td>\n",
       "      <td>4.31</td>\n",
       "      <td>Afternoon</td>\n",
       "      <td>Premium</td>\n",
       "      <td>134</td>\n",
       "      <td>470.201232</td>\n",
       "    </tr>\n",
       "    <tr>\n",
       "      <th>4</th>\n",
       "      <td>78</td>\n",
       "      <td>22</td>\n",
       "      <td>Rural</td>\n",
       "      <td>Regular</td>\n",
       "      <td>74</td>\n",
       "      <td>3.77</td>\n",
       "      <td>Afternoon</td>\n",
       "      <td>Economy</td>\n",
       "      <td>149</td>\n",
       "      <td>579.681422</td>\n",
       "    </tr>\n",
       "  </tbody>\n",
       "</table>\n",
       "</div>"
      ],
      "text/plain": [
       "   Number_of_Riders  Number_of_Drivers Location_Category  \\\n",
       "0                90                 45             Urban   \n",
       "1                58                 39          Suburban   \n",
       "2                42                 31             Rural   \n",
       "3                89                 28             Rural   \n",
       "4                78                 22             Rural   \n",
       "\n",
       "  Customer_Loyalty_Status  Number_of_Past_Rides  Average_Ratings  \\\n",
       "0                  Silver                    13             4.47   \n",
       "1                  Silver                    72             4.06   \n",
       "2                  Silver                     0             3.99   \n",
       "3                 Regular                    67             4.31   \n",
       "4                 Regular                    74             3.77   \n",
       "\n",
       "  Time_of_Booking Vehicle_Type  Expected_Ride_Duration  \\\n",
       "0           Night      Premium                      90   \n",
       "1         Evening      Economy                      43   \n",
       "2       Afternoon      Premium                      76   \n",
       "3       Afternoon      Premium                     134   \n",
       "4       Afternoon      Economy                     149   \n",
       "\n",
       "   Historical_Cost_of_Ride  \n",
       "0               284.257273  \n",
       "1               173.874753  \n",
       "2               329.795469  \n",
       "3               470.201232  \n",
       "4               579.681422  "
      ]
     },
     "execution_count": 4,
     "metadata": {},
     "output_type": "execute_result"
    }
   ],
   "source": [
    "df.head()"
   ]
  },
  {
   "cell_type": "code",
   "execution_count": 5,
   "id": "a4bb1c87-db49-455a-b801-bfaaf91baf8f",
   "metadata": {},
   "outputs": [
    {
     "data": {
      "text/plain": [
       "Number_of_Riders           0\n",
       "Number_of_Drivers          0\n",
       "Location_Category          0\n",
       "Customer_Loyalty_Status    0\n",
       "Number_of_Past_Rides       0\n",
       "Average_Ratings            0\n",
       "Time_of_Booking            0\n",
       "Vehicle_Type               0\n",
       "Expected_Ride_Duration     0\n",
       "Historical_Cost_of_Ride    0\n",
       "dtype: int64"
      ]
     },
     "execution_count": 5,
     "metadata": {},
     "output_type": "execute_result"
    }
   ],
   "source": [
    "df.isnull().sum()"
   ]
  },
  {
   "cell_type": "code",
   "execution_count": 6,
   "id": "f9f36f9d-e17c-4c5e-88dc-d4eef220f8cc",
   "metadata": {},
   "outputs": [
    {
     "data": {
      "text/plain": [
       "Number_of_Riders             int64\n",
       "Number_of_Drivers            int64\n",
       "Location_Category           object\n",
       "Customer_Loyalty_Status     object\n",
       "Number_of_Past_Rides         int64\n",
       "Average_Ratings            float64\n",
       "Time_of_Booking             object\n",
       "Vehicle_Type                object\n",
       "Expected_Ride_Duration       int64\n",
       "Historical_Cost_of_Ride    float64\n",
       "dtype: object"
      ]
     },
     "execution_count": 6,
     "metadata": {},
     "output_type": "execute_result"
    }
   ],
   "source": [
    "df.dtypes"
   ]
  },
  {
   "cell_type": "code",
   "execution_count": 7,
   "id": "5ff24771-21a4-4c57-956c-0812108ae7c1",
   "metadata": {},
   "outputs": [],
   "source": [
    "for i in range(len(df)):\n",
    "    df.iloc[i,9] = round(df.iloc[i,9],2)"
   ]
  },
  {
   "cell_type": "code",
   "execution_count": 8,
   "id": "44f172ec-33cd-4cbf-81e1-23bd8844e440",
   "metadata": {},
   "outputs": [
    {
     "data": {
      "text/html": [
       "<div>\n",
       "<style scoped>\n",
       "    .dataframe tbody tr th:only-of-type {\n",
       "        vertical-align: middle;\n",
       "    }\n",
       "\n",
       "    .dataframe tbody tr th {\n",
       "        vertical-align: top;\n",
       "    }\n",
       "\n",
       "    .dataframe thead th {\n",
       "        text-align: right;\n",
       "    }\n",
       "</style>\n",
       "<table border=\"1\" class=\"dataframe\">\n",
       "  <thead>\n",
       "    <tr style=\"text-align: right;\">\n",
       "      <th></th>\n",
       "      <th>Number_of_Riders</th>\n",
       "      <th>Number_of_Drivers</th>\n",
       "      <th>Location_Category</th>\n",
       "      <th>Customer_Loyalty_Status</th>\n",
       "      <th>Number_of_Past_Rides</th>\n",
       "      <th>Average_Ratings</th>\n",
       "      <th>Time_of_Booking</th>\n",
       "      <th>Vehicle_Type</th>\n",
       "      <th>Expected_Ride_Duration</th>\n",
       "      <th>Historical_Cost_of_Ride</th>\n",
       "    </tr>\n",
       "  </thead>\n",
       "  <tbody>\n",
       "    <tr>\n",
       "      <th>0</th>\n",
       "      <td>90</td>\n",
       "      <td>45</td>\n",
       "      <td>Urban</td>\n",
       "      <td>Silver</td>\n",
       "      <td>13</td>\n",
       "      <td>4.47</td>\n",
       "      <td>Night</td>\n",
       "      <td>Premium</td>\n",
       "      <td>90</td>\n",
       "      <td>284.26</td>\n",
       "    </tr>\n",
       "    <tr>\n",
       "      <th>1</th>\n",
       "      <td>58</td>\n",
       "      <td>39</td>\n",
       "      <td>Suburban</td>\n",
       "      <td>Silver</td>\n",
       "      <td>72</td>\n",
       "      <td>4.06</td>\n",
       "      <td>Evening</td>\n",
       "      <td>Economy</td>\n",
       "      <td>43</td>\n",
       "      <td>173.87</td>\n",
       "    </tr>\n",
       "    <tr>\n",
       "      <th>2</th>\n",
       "      <td>42</td>\n",
       "      <td>31</td>\n",
       "      <td>Rural</td>\n",
       "      <td>Silver</td>\n",
       "      <td>0</td>\n",
       "      <td>3.99</td>\n",
       "      <td>Afternoon</td>\n",
       "      <td>Premium</td>\n",
       "      <td>76</td>\n",
       "      <td>329.80</td>\n",
       "    </tr>\n",
       "    <tr>\n",
       "      <th>3</th>\n",
       "      <td>89</td>\n",
       "      <td>28</td>\n",
       "      <td>Rural</td>\n",
       "      <td>Regular</td>\n",
       "      <td>67</td>\n",
       "      <td>4.31</td>\n",
       "      <td>Afternoon</td>\n",
       "      <td>Premium</td>\n",
       "      <td>134</td>\n",
       "      <td>470.20</td>\n",
       "    </tr>\n",
       "    <tr>\n",
       "      <th>4</th>\n",
       "      <td>78</td>\n",
       "      <td>22</td>\n",
       "      <td>Rural</td>\n",
       "      <td>Regular</td>\n",
       "      <td>74</td>\n",
       "      <td>3.77</td>\n",
       "      <td>Afternoon</td>\n",
       "      <td>Economy</td>\n",
       "      <td>149</td>\n",
       "      <td>579.68</td>\n",
       "    </tr>\n",
       "  </tbody>\n",
       "</table>\n",
       "</div>"
      ],
      "text/plain": [
       "   Number_of_Riders  Number_of_Drivers Location_Category  \\\n",
       "0                90                 45             Urban   \n",
       "1                58                 39          Suburban   \n",
       "2                42                 31             Rural   \n",
       "3                89                 28             Rural   \n",
       "4                78                 22             Rural   \n",
       "\n",
       "  Customer_Loyalty_Status  Number_of_Past_Rides  Average_Ratings  \\\n",
       "0                  Silver                    13             4.47   \n",
       "1                  Silver                    72             4.06   \n",
       "2                  Silver                     0             3.99   \n",
       "3                 Regular                    67             4.31   \n",
       "4                 Regular                    74             3.77   \n",
       "\n",
       "  Time_of_Booking Vehicle_Type  Expected_Ride_Duration  \\\n",
       "0           Night      Premium                      90   \n",
       "1         Evening      Economy                      43   \n",
       "2       Afternoon      Premium                      76   \n",
       "3       Afternoon      Premium                     134   \n",
       "4       Afternoon      Economy                     149   \n",
       "\n",
       "   Historical_Cost_of_Ride  \n",
       "0                   284.26  \n",
       "1                   173.87  \n",
       "2                   329.80  \n",
       "3                   470.20  \n",
       "4                   579.68  "
      ]
     },
     "execution_count": 8,
     "metadata": {},
     "output_type": "execute_result"
    }
   ],
   "source": [
    "df.head()"
   ]
  },
  {
   "cell_type": "code",
   "execution_count": 9,
   "id": "ce79078a-38f2-4c39-a626-fcb0656bb56b",
   "metadata": {},
   "outputs": [
    {
     "data": {
      "text/html": [
       "<div>\n",
       "<style scoped>\n",
       "    .dataframe tbody tr th:only-of-type {\n",
       "        vertical-align: middle;\n",
       "    }\n",
       "\n",
       "    .dataframe tbody tr th {\n",
       "        vertical-align: top;\n",
       "    }\n",
       "\n",
       "    .dataframe thead th {\n",
       "        text-align: right;\n",
       "    }\n",
       "</style>\n",
       "<table border=\"1\" class=\"dataframe\">\n",
       "  <thead>\n",
       "    <tr style=\"text-align: right;\">\n",
       "      <th></th>\n",
       "      <th>Number_of_Riders</th>\n",
       "      <th>Number_of_Drivers</th>\n",
       "      <th>Number_of_Past_Rides</th>\n",
       "      <th>Average_Ratings</th>\n",
       "      <th>Expected_Ride_Duration</th>\n",
       "      <th>Historical_Cost_of_Ride</th>\n",
       "    </tr>\n",
       "  </thead>\n",
       "  <tbody>\n",
       "    <tr>\n",
       "      <th>count</th>\n",
       "      <td>1000.000000</td>\n",
       "      <td>1000.000000</td>\n",
       "      <td>1000.000000</td>\n",
       "      <td>1000.000000</td>\n",
       "      <td>1000.00000</td>\n",
       "      <td>1000.000000</td>\n",
       "    </tr>\n",
       "    <tr>\n",
       "      <th>mean</th>\n",
       "      <td>60.372000</td>\n",
       "      <td>27.076000</td>\n",
       "      <td>50.031000</td>\n",
       "      <td>4.257220</td>\n",
       "      <td>99.58800</td>\n",
       "      <td>372.502690</td>\n",
       "    </tr>\n",
       "    <tr>\n",
       "      <th>std</th>\n",
       "      <td>23.701506</td>\n",
       "      <td>19.068346</td>\n",
       "      <td>29.313774</td>\n",
       "      <td>0.435781</td>\n",
       "      <td>49.16545</td>\n",
       "      <td>187.158809</td>\n",
       "    </tr>\n",
       "    <tr>\n",
       "      <th>min</th>\n",
       "      <td>20.000000</td>\n",
       "      <td>5.000000</td>\n",
       "      <td>0.000000</td>\n",
       "      <td>3.500000</td>\n",
       "      <td>10.00000</td>\n",
       "      <td>25.990000</td>\n",
       "    </tr>\n",
       "    <tr>\n",
       "      <th>25%</th>\n",
       "      <td>40.000000</td>\n",
       "      <td>11.000000</td>\n",
       "      <td>25.000000</td>\n",
       "      <td>3.870000</td>\n",
       "      <td>59.75000</td>\n",
       "      <td>221.362500</td>\n",
       "    </tr>\n",
       "    <tr>\n",
       "      <th>50%</th>\n",
       "      <td>60.000000</td>\n",
       "      <td>22.000000</td>\n",
       "      <td>51.000000</td>\n",
       "      <td>4.270000</td>\n",
       "      <td>102.00000</td>\n",
       "      <td>362.020000</td>\n",
       "    </tr>\n",
       "    <tr>\n",
       "      <th>75%</th>\n",
       "      <td>81.000000</td>\n",
       "      <td>38.000000</td>\n",
       "      <td>75.000000</td>\n",
       "      <td>4.632500</td>\n",
       "      <td>143.00000</td>\n",
       "      <td>510.495000</td>\n",
       "    </tr>\n",
       "    <tr>\n",
       "      <th>max</th>\n",
       "      <td>100.000000</td>\n",
       "      <td>89.000000</td>\n",
       "      <td>100.000000</td>\n",
       "      <td>5.000000</td>\n",
       "      <td>180.00000</td>\n",
       "      <td>836.120000</td>\n",
       "    </tr>\n",
       "  </tbody>\n",
       "</table>\n",
       "</div>"
      ],
      "text/plain": [
       "       Number_of_Riders  Number_of_Drivers  Number_of_Past_Rides  \\\n",
       "count       1000.000000        1000.000000           1000.000000   \n",
       "mean          60.372000          27.076000             50.031000   \n",
       "std           23.701506          19.068346             29.313774   \n",
       "min           20.000000           5.000000              0.000000   \n",
       "25%           40.000000          11.000000             25.000000   \n",
       "50%           60.000000          22.000000             51.000000   \n",
       "75%           81.000000          38.000000             75.000000   \n",
       "max          100.000000          89.000000            100.000000   \n",
       "\n",
       "       Average_Ratings  Expected_Ride_Duration  Historical_Cost_of_Ride  \n",
       "count      1000.000000              1000.00000              1000.000000  \n",
       "mean          4.257220                99.58800               372.502690  \n",
       "std           0.435781                49.16545               187.158809  \n",
       "min           3.500000                10.00000                25.990000  \n",
       "25%           3.870000                59.75000               221.362500  \n",
       "50%           4.270000               102.00000               362.020000  \n",
       "75%           4.632500               143.00000               510.495000  \n",
       "max           5.000000               180.00000               836.120000  "
      ]
     },
     "execution_count": 9,
     "metadata": {},
     "output_type": "execute_result"
    }
   ],
   "source": [
    "df.describe()"
   ]
  },
  {
   "cell_type": "code",
   "execution_count": 10,
   "id": "843dea00-335d-4f39-be6f-6c3785f05260",
   "metadata": {},
   "outputs": [
    {
     "data": {
      "text/plain": [
       "<Axes: xlabel='Expected_Ride_Duration', ylabel='Historical_Cost_of_Ride'>"
      ]
     },
     "execution_count": 10,
     "metadata": {},
     "output_type": "execute_result"
    },
    {
     "data": {
      "image/png": "[encoded data removed]",
      "text/plain": [
       "<Figure size 640x480 with 1 Axes>"
      ]
     },
     "metadata": {},
     "output_type": "display_data"
    }
   ],
   "source": [
    "sns.scatterplot(df, x='Expected_Ride_Duration',y='Historical_Cost_of_Ride',hue='Vehicle_Type')"
   ]
  },
  {
   "cell_type": "code",
   "execution_count": 11,
   "id": "503c436b-cde8-437a-8201-4f72afdad7b3",
   "metadata": {},
   "outputs": [],
   "source": [
    "df1 = df.groupby(['Customer_Loyalty_Status'])['Historical_Cost_of_Ride'].var()"
   ]
  },
  {
   "cell_type": "code",
   "execution_count": 12,
   "id": "53b4164f-cffb-4dfd-952c-5a2edb287318",
   "metadata": {},
   "outputs": [
    {
     "data": {
      "text/plain": [
       "Customer_Loyalty_Status\n",
       "Gold       34212.860010\n",
       "Regular    35952.596180\n",
       "Silver     34952.634675\n",
       "Name: Historical_Cost_of_Ride, dtype: float64"
      ]
     },
     "execution_count": 12,
     "metadata": {},
     "output_type": "execute_result"
    }
   ],
   "source": [
    "df1"
   ]
  },
  {
   "cell_type": "code",
   "execution_count": 13,
   "id": "ad52dc32-a977-4986-8bc8-4163ea1921c3",
   "metadata": {},
   "outputs": [
    {
     "data": {
      "text/plain": [
       "<Axes: xlabel='Customer_Loyalty_Status', ylabel='Historical_Cost_of_Ride'>"
      ]
     },
     "execution_count": 13,
     "metadata": {},
     "output_type": "execute_result"
    },
    {
     "data": {
      "image/png": "[encoded data removed]",
      "text/plain": [
       "<Figure size 640x480 with 1 Axes>"
      ]
     },
     "metadata": {},
     "output_type": "display_data"
    }
   ],
   "source": [
    "sns.boxplot(df,x='Customer_Loyalty_Status',y='Historical_Cost_of_Ride')"
   ]
  },
  {
   "cell_type": "code",
   "execution_count": 11,
   "id": "b11b1e90-ce66-469b-a427-6b09f0633d78",
   "metadata": {},
   "outputs": [],
   "source": [
    "high_demand_percentile = 75\n",
    "low_demand_percentile = 25\n",
    "\n",
    "df['demand_multiplier'] = np.where(df['Number_of_Riders'] > np.percentile(df['Number_of_Riders'], 75),\n",
    "                                     df['Number_of_Riders'] / np.percentile(df['Number_of_Riders'], 75),\n",
    "                                     df['Number_of_Riders'] / np.percentile(df['Number_of_Riders'], 25))"
   ]
  },
  {
   "cell_type": "code",
   "execution_count": 12,
   "id": "d04b2fc9-234c-4384-8a3d-549f7b425e5a",
   "metadata": {},
   "outputs": [
    {
     "data": {
      "text/html": [
       "<div>\n",
       "<style scoped>\n",
       "    .dataframe tbody tr th:only-of-type {\n",
       "        vertical-align: middle;\n",
       "    }\n",
       "\n",
       "    .dataframe tbody tr th {\n",
       "        vertical-align: top;\n",
       "    }\n",
       "\n",
       "    .dataframe thead th {\n",
       "        text-align: right;\n",
       "    }\n",
       "</style>\n",
       "<table border=\"1\" class=\"dataframe\">\n",
       "  <thead>\n",
       "    <tr style=\"text-align: right;\">\n",
       "      <th></th>\n",
       "      <th>Number_of_Riders</th>\n",
       "      <th>Number_of_Drivers</th>\n",
       "      <th>Location_Category</th>\n",
       "      <th>Customer_Loyalty_Status</th>\n",
       "      <th>Number_of_Past_Rides</th>\n",
       "      <th>Average_Ratings</th>\n",
       "      <th>Time_of_Booking</th>\n",
       "      <th>Vehicle_Type</th>\n",
       "      <th>Expected_Ride_Duration</th>\n",
       "      <th>Historical_Cost_of_Ride</th>\n",
       "      <th>demand_multiplier</th>\n",
       "    </tr>\n",
       "  </thead>\n",
       "  <tbody>\n",
       "    <tr>\n",
       "      <th>0</th>\n",
       "      <td>90</td>\n",
       "      <td>45</td>\n",
       "      <td>Urban</td>\n",
       "      <td>Silver</td>\n",
       "      <td>13</td>\n",
       "      <td>4.47</td>\n",
       "      <td>Night</td>\n",
       "      <td>Premium</td>\n",
       "      <td>90</td>\n",
       "      <td>284.26</td>\n",
       "      <td>1.111111</td>\n",
       "    </tr>\n",
       "    <tr>\n",
       "      <th>1</th>\n",
       "      <td>58</td>\n",
       "      <td>39</td>\n",
       "      <td>Suburban</td>\n",
       "      <td>Silver</td>\n",
       "      <td>72</td>\n",
       "      <td>4.06</td>\n",
       "      <td>Evening</td>\n",
       "      <td>Economy</td>\n",
       "      <td>43</td>\n",
       "      <td>173.87</td>\n",
       "      <td>1.450000</td>\n",
       "    </tr>\n",
       "    <tr>\n",
       "      <th>2</th>\n",
       "      <td>42</td>\n",
       "      <td>31</td>\n",
       "      <td>Rural</td>\n",
       "      <td>Silver</td>\n",
       "      <td>0</td>\n",
       "      <td>3.99</td>\n",
       "      <td>Afternoon</td>\n",
       "      <td>Premium</td>\n",
       "      <td>76</td>\n",
       "      <td>329.80</td>\n",
       "      <td>1.050000</td>\n",
       "    </tr>\n",
       "    <tr>\n",
       "      <th>3</th>\n",
       "      <td>89</td>\n",
       "      <td>28</td>\n",
       "      <td>Rural</td>\n",
       "      <td>Regular</td>\n",
       "      <td>67</td>\n",
       "      <td>4.31</td>\n",
       "      <td>Afternoon</td>\n",
       "      <td>Premium</td>\n",
       "      <td>134</td>\n",
       "      <td>470.20</td>\n",
       "      <td>1.098765</td>\n",
       "    </tr>\n",
       "    <tr>\n",
       "      <th>4</th>\n",
       "      <td>78</td>\n",
       "      <td>22</td>\n",
       "      <td>Rural</td>\n",
       "      <td>Regular</td>\n",
       "      <td>74</td>\n",
       "      <td>3.77</td>\n",
       "      <td>Afternoon</td>\n",
       "      <td>Economy</td>\n",
       "      <td>149</td>\n",
       "      <td>579.68</td>\n",
       "      <td>1.950000</td>\n",
       "    </tr>\n",
       "  </tbody>\n",
       "</table>\n",
       "</div>"
      ],
      "text/plain": [
       "   Number_of_Riders  Number_of_Drivers Location_Category  \\\n",
       "0                90                 45             Urban   \n",
       "1                58                 39          Suburban   \n",
       "2                42                 31             Rural   \n",
       "3                89                 28             Rural   \n",
       "4                78                 22             Rural   \n",
       "\n",
       "  Customer_Loyalty_Status  Number_of_Past_Rides  Average_Ratings  \\\n",
       "0                  Silver                    13             4.47   \n",
       "1                  Silver                    72             4.06   \n",
       "2                  Silver                     0             3.99   \n",
       "3                 Regular                    67             4.31   \n",
       "4                 Regular                    74             3.77   \n",
       "\n",
       "  Time_of_Booking Vehicle_Type  Expected_Ride_Duration  \\\n",
       "0           Night      Premium                      90   \n",
       "1         Evening      Economy                      43   \n",
       "2       Afternoon      Premium                      76   \n",
       "3       Afternoon      Premium                     134   \n",
       "4       Afternoon      Economy                     149   \n",
       "\n",
       "   Historical_Cost_of_Ride  demand_multiplier  \n",
       "0                   284.26           1.111111  \n",
       "1                   173.87           1.450000  \n",
       "2                   329.80           1.050000  \n",
       "3                   470.20           1.098765  \n",
       "4                   579.68           1.950000  "
      ]
     },
     "execution_count": 12,
     "metadata": {},
     "output_type": "execute_result"
    }
   ],
   "source": [
    "df.head()"
   ]
  },
  {
   "cell_type": "code",
   "execution_count": 13,
   "id": "7c7ec19a-e3e1-4aa3-8c7c-87d0fda870dd",
   "metadata": {},
   "outputs": [],
   "source": [
    "df['supply_multiplier'] = np.where(df['Number_of_Drivers'] > np.percentile(df['Number_of_Drivers'], 25),\n",
    "                                     np.percentile(df['Number_of_Drivers'], 75) /df['Number_of_Drivers'],\n",
    "                                     np.percentile(df['Number_of_Drivers'],25) /df['Number_of_Drivers'])"
   ]
  },
  {
   "cell_type": "code",
   "execution_count": 14,
   "id": "9c4804d9-b58c-47b4-8309-bef5e233adf1",
   "metadata": {},
   "outputs": [],
   "source": [
    "demand_threshold_high = 1.2\n",
    "demand_threshold_low = 0.8\n",
    "supply_threshold_high = 0.8  \n",
    "supply_threshold_low = 1.2"
   ]
  },
  {
   "cell_type": "code",
   "execution_count": 15,
   "id": "e0910124-fb4e-4d69-9870-dbaefa2b4b44",
   "metadata": {},
   "outputs": [],
   "source": [
    "df['adjusted_ride_cost'] = df['Historical_Cost_of_Ride'] * (np.maximum(df['demand_multiplier'], demand_threshold_low)*np.maximum(df['supply_multiplier'], supply_threshold_high))"
   ]
  },
  {
   "cell_type": "code",
   "execution_count": 17,
   "id": "67421588-465d-4940-831a-2e9f3a3d5e8b",
   "metadata": {},
   "outputs": [
    {
     "data": {
      "text/html": [
       "<div>\n",
       "<style scoped>\n",
       "    .dataframe tbody tr th:only-of-type {\n",
       "        vertical-align: middle;\n",
       "    }\n",
       "\n",
       "    .dataframe tbody tr th {\n",
       "        vertical-align: top;\n",
       "    }\n",
       "\n",
       "    .dataframe thead th {\n",
       "        text-align: right;\n",
       "    }\n",
       "</style>\n",
       "<table border=\"1\" class=\"dataframe\">\n",
       "  <thead>\n",
       "    <tr style=\"text-align: right;\">\n",
       "      <th></th>\n",
       "      <th>Number_of_Riders</th>\n",
       "      <th>Number_of_Drivers</th>\n",
       "      <th>Location_Category</th>\n",
       "      <th>Customer_Loyalty_Status</th>\n",
       "      <th>Number_of_Past_Rides</th>\n",
       "      <th>Average_Ratings</th>\n",
       "      <th>Time_of_Booking</th>\n",
       "      <th>Vehicle_Type</th>\n",
       "      <th>Expected_Ride_Duration</th>\n",
       "      <th>Historical_Cost_of_Ride</th>\n",
       "      <th>demand_multiplier</th>\n",
       "      <th>supply_multiplier</th>\n",
       "      <th>adjusted_ride_cost</th>\n",
       "    </tr>\n",
       "  </thead>\n",
       "  <tbody>\n",
       "    <tr>\n",
       "      <th>0</th>\n",
       "      <td>90</td>\n",
       "      <td>45</td>\n",
       "      <td>Urban</td>\n",
       "      <td>Silver</td>\n",
       "      <td>13</td>\n",
       "      <td>4.47</td>\n",
       "      <td>Night</td>\n",
       "      <td>Premium</td>\n",
       "      <td>90</td>\n",
       "      <td>284.26</td>\n",
       "      <td>1.111111</td>\n",
       "      <td>0.844444</td>\n",
       "      <td>266.713086</td>\n",
       "    </tr>\n",
       "    <tr>\n",
       "      <th>1</th>\n",
       "      <td>58</td>\n",
       "      <td>39</td>\n",
       "      <td>Suburban</td>\n",
       "      <td>Silver</td>\n",
       "      <td>72</td>\n",
       "      <td>4.06</td>\n",
       "      <td>Evening</td>\n",
       "      <td>Economy</td>\n",
       "      <td>43</td>\n",
       "      <td>173.87</td>\n",
       "      <td>1.450000</td>\n",
       "      <td>0.974359</td>\n",
       "      <td>245.647103</td>\n",
       "    </tr>\n",
       "    <tr>\n",
       "      <th>2</th>\n",
       "      <td>42</td>\n",
       "      <td>31</td>\n",
       "      <td>Rural</td>\n",
       "      <td>Silver</td>\n",
       "      <td>0</td>\n",
       "      <td>3.99</td>\n",
       "      <td>Afternoon</td>\n",
       "      <td>Premium</td>\n",
       "      <td>76</td>\n",
       "      <td>329.80</td>\n",
       "      <td>1.050000</td>\n",
       "      <td>1.225806</td>\n",
       "      <td>424.484516</td>\n",
       "    </tr>\n",
       "    <tr>\n",
       "      <th>3</th>\n",
       "      <td>89</td>\n",
       "      <td>28</td>\n",
       "      <td>Rural</td>\n",
       "      <td>Regular</td>\n",
       "      <td>67</td>\n",
       "      <td>4.31</td>\n",
       "      <td>Afternoon</td>\n",
       "      <td>Premium</td>\n",
       "      <td>134</td>\n",
       "      <td>470.20</td>\n",
       "      <td>1.098765</td>\n",
       "      <td>1.357143</td>\n",
       "      <td>701.153616</td>\n",
       "    </tr>\n",
       "    <tr>\n",
       "      <th>4</th>\n",
       "      <td>78</td>\n",
       "      <td>22</td>\n",
       "      <td>Rural</td>\n",
       "      <td>Regular</td>\n",
       "      <td>74</td>\n",
       "      <td>3.77</td>\n",
       "      <td>Afternoon</td>\n",
       "      <td>Economy</td>\n",
       "      <td>149</td>\n",
       "      <td>579.68</td>\n",
       "      <td>1.950000</td>\n",
       "      <td>1.727273</td>\n",
       "      <td>1952.467636</td>\n",
       "    </tr>\n",
       "  </tbody>\n",
       "</table>\n",
       "</div>"
      ],
      "text/plain": [
       "   Number_of_Riders  Number_of_Drivers Location_Category  \\\n",
       "0                90                 45             Urban   \n",
       "1                58                 39          Suburban   \n",
       "2                42                 31             Rural   \n",
       "3                89                 28             Rural   \n",
       "4                78                 22             Rural   \n",
       "\n",
       "  Customer_Loyalty_Status  Number_of_Past_Rides  Average_Ratings  \\\n",
       "0                  Silver                    13             4.47   \n",
       "1                  Silver                    72             4.06   \n",
       "2                  Silver                     0             3.99   \n",
       "3                 Regular                    67             4.31   \n",
       "4                 Regular                    74             3.77   \n",
       "\n",
       "  Time_of_Booking Vehicle_Type  Expected_Ride_Duration  \\\n",
       "0           Night      Premium                      90   \n",
       "1         Evening      Economy                      43   \n",
       "2       Afternoon      Premium                      76   \n",
       "3       Afternoon      Premium                     134   \n",
       "4       Afternoon      Economy                     149   \n",
       "\n",
       "   Historical_Cost_of_Ride  demand_multiplier  supply_multiplier  \\\n",
       "0                   284.26           1.111111           0.844444   \n",
       "1                   173.87           1.450000           0.974359   \n",
       "2                   329.80           1.050000           1.225806   \n",
       "3                   470.20           1.098765           1.357143   \n",
       "4                   579.68           1.950000           1.727273   \n",
       "\n",
       "   adjusted_ride_cost  \n",
       "0          266.713086  \n",
       "1          245.647103  \n",
       "2          424.484516  \n",
       "3          701.153616  \n",
       "4         1952.467636  "
      ]
     },
     "execution_count": 17,
     "metadata": {},
     "output_type": "execute_result"
    }
   ],
   "source": [
    "df.head()"
   ]
  },
  {
   "cell_type": "code",
   "execution_count": 18,
   "id": "8896a123-873f-4a22-9061-2c8f81a66757",
   "metadata": {},
   "outputs": [],
   "source": [
    "df['profit_percentage'] = ((df['adjusted_ride_cost']-df['Historical_Cost_of_Ride'])/df['Historical_Cost_of_Ride'])*100\n",
    "\n",
    "profitable = df[df['profit_percentage']>0]\n",
    "loss = df[df['profit_percentage']<0]\n",
    "\n",
    "profitable_cnt = len(profitable)\n",
    "loss_cnt = len(loss)"
   ]
  },
  {
   "cell_type": "code",
   "execution_count": 19,
   "id": "a5bbc50c-bc2e-4bcf-8d75-3b085a2969d4",
   "metadata": {},
   "outputs": [
    {
     "data": {
      "text/plain": [
       "826"
      ]
     },
     "execution_count": 19,
     "metadata": {},
     "output_type": "execute_result"
    }
   ],
   "source": [
    "profitable_cnt"
   ]
  },
  {
   "cell_type": "code",
   "execution_count": 20,
   "id": "99bcdb99-3e07-41e6-b72e-48ca0f011b9b",
   "metadata": {},
   "outputs": [
    {
     "data": {
      "text/plain": [
       "173"
      ]
     },
     "execution_count": 20,
     "metadata": {},
     "output_type": "execute_result"
    }
   ],
   "source": [
    "loss_cnt"
   ]
  },
  {
   "cell_type": "code",
   "execution_count": 21,
   "id": "4d566099-c20c-4546-8e72-6458caf1447e",
   "metadata": {},
   "outputs": [
    {
     "data": {
      "text/plain": [
       "([<matplotlib.patches.Wedge at 0x7252c8e1f6d0>,\n",
       "  <matplotlib.patches.Wedge at 0x72526f2244d0>],\n",
       " [Text(-0.5693562637878331, -0.9411872528278098, 'Profitable Rides'),\n",
       "  Text(0.5693563078479881, 0.9411872261743183, 'Rides in Loss')],\n",
       " [Text(-0.3105579620660907, -0.5133748651788053, '82.68%'),\n",
       "  Text(0.31055798609890256, 0.5133748506405371, '17.32%')])"
      ]
     },
     "execution_count": 21,
     "metadata": {},
     "output_type": "execute_result"
    },
    {
     "data": {
      "image/png": "[encoded data removed]",
      "text/plain": [
       "<Figure size 640x480 with 1 Axes>"
      ]
     },
     "metadata": {},
     "output_type": "display_data"
    }
   ],
   "source": [
    "plt.pie(x=[profitable_cnt,loss_cnt],startangle=90,labels=['Profitable Rides','Rides in Loss'],autopct='%.2f%%')"
   ]
  },
  {
   "cell_type": "code",
   "execution_count": 22,
   "id": "04d13efe-75ef-48ce-8c9f-9bd5aa185a74",
   "metadata": {},
   "outputs": [],
   "source": [
    "from sklearn.preprocessing import StandardScaler"
   ]
  },
  {
   "cell_type": "code",
   "execution_count": 23,
   "id": "4e35339a-cce1-4a69-9c07-57f7c7868d32",
   "metadata": {},
   "outputs": [],
   "source": [
    "def data_pipeline(data):\n",
    "    num_features = data.select_dtypes(include=['float','int']).columns\n",
    "    cat_features = data.select_dtypes(include=['object']).columns\n",
    "\n",
    "    df[num_features] = df[num_features].fillna(df[num_features].mean())\n",
    "\n",
    "    for feature in num_features:\n",
    "        Q1 = df[feature].quantile(0.25)\n",
    "        Q3 = df[feature].quantile(0.75)\n",
    "        IQR = Q3-Q1\n",
    "        lower_bound = Q1-(1.5*IQR)\n",
    "        upper_bound = Q3+(1.5*IQR)\n",
    "        data[feature] = np.where((data[feature]<lower_bound) | (data[feature]>upper_bound),\n",
    "                                 data[feature].mean(), data[feature])\n",
    "\n",
    "    data[categorical_features] = data[categorical_features].fillna(data[categorical_features].mode().iloc[0])\n",
    "\n",
    "    return data"
   ]
  },
  {
   "cell_type": "markdown",
   "id": "34562d99-5e85-4818-b906-024039546c06",
   "metadata": {},
   "source": [
    "**Model Development**"
   ]
  },
  {
   "cell_type": "code",
   "execution_count": 24,
   "id": "9112279d-7376-454a-adce-ac4d4196aaf1",
   "metadata": {},
   "outputs": [],
   "source": [
    "from sklearn.model_selection import train_test_split\n",
    "x = df[[\"Number_of_Riders\", \"Number_of_Drivers\", \"Vehicle_Type\", \"Expected_Ride_Duration\"]]\n",
    "y = df[[\"adjusted_ride_cost\"]]"
   ]
  },
  {
   "cell_type": "code",
   "execution_count": 25,
   "id": "9d3db9a9-3c40-49e3-b70f-d0a1415ce9fe",
   "metadata": {},
   "outputs": [],
   "source": [
    "x_train, x_test, y_train, y_test = train_test_split(x,y,test_size=0.1,random_state=42)"
   ]
  },
  {
   "cell_type": "code",
   "execution_count": 26,
   "id": "26200827-01a0-4740-8c32-7e9ea8c5839e",
   "metadata": {},
   "outputs": [],
   "source": [
    "from catboost import CatBoostRegressor"
   ]
  },
  {
   "cell_type": "code",
   "execution_count": 27,
   "id": "78aab941-f094-418b-bea0-233b5ed3ddad",
   "metadata": {},
   "outputs": [
    {
     "name": "stdout",
     "output_type": "stream",
     "text": [
      "0:\tlearn: 464.9028331\ttotal: 53.3ms\tremaining: 26.6s\n",
      "100:\tlearn: 132.1597270\ttotal: 142ms\tremaining: 561ms\n",
      "200:\tlearn: 104.3216777\ttotal: 234ms\tremaining: 348ms\n",
      "300:\tlearn: 90.6631316\ttotal: 315ms\tremaining: 208ms\n",
      "400:\tlearn: 79.8720058\ttotal: 385ms\tremaining: 95ms\n",
      "499:\tlearn: 72.5358612\ttotal: 463ms\tremaining: 0us\n"
     ]
    },
    {
     "data": {
      "text/plain": [
       "<catboost.core.CatBoostRegressor at 0x7252775c7950>"
      ]
     },
     "execution_count": 27,
     "metadata": {},
     "output_type": "execute_result"
    }
   ],
   "source": [
    "model1 = CatBoostRegressor(cat_features=[2], verbose=100, depth=6, \n",
    "                           iterations=500, l2_leaf_reg=1, learning_rate=0.05)\n",
    "model1.fit(x_train, y_train)"
   ]
  },
  {
   "cell_type": "code",
   "execution_count": 28,
   "id": "77e9e95b-bb74-4ae8-81c5-7a61e938d3cc",
   "metadata": {},
   "outputs": [],
   "source": [
    "y_pred1 = model1.predict(x_test)"
   ]
  },
  {
   "cell_type": "code",
   "execution_count": 29,
   "id": "84f002dd-0120-4efd-95e6-7ba3df90870e",
   "metadata": {},
   "outputs": [],
   "source": [
    "from sklearn.metrics import r2_score, mean_absolute_error, mean_squared_error"
   ]
  },
  {
   "cell_type": "code",
   "execution_count": 30,
   "id": "37258b02-a284-4257-a46f-c4be6d368def",
   "metadata": {},
   "outputs": [
    {
     "name": "stdout",
     "output_type": "stream",
     "text": [
      "MAE: 111.55729827754651\n",
      "RMSE: 24149.185139218\n",
      "R² Score: 0.9008536088948023\n"
     ]
    }
   ],
   "source": [
    "print(\"MAE:\", mean_absolute_error(y_test, y_pred1))\n",
    "print(\"RMSE:\", mean_squared_error(y_test, y_pred1))\n",
    "print(\"R² Score:\", r2_score(y_test, y_pred1))"
   ]
  },
  {
   "cell_type": "code",
   "execution_count": 31,
   "id": "bf624230-a50d-4861-917f-020a4ec3af4d",
   "metadata": {},
   "outputs": [
    {
     "name": "stdout",
     "output_type": "stream",
     "text": [
      "Predicted price: 718.7642299279404\n"
     ]
    }
   ],
   "source": [
    "user_number_of_riders = 75\n",
    "user_number_of_drivers = 28\n",
    "user_vehicle_type = \"Premium\"\n",
    "Expected_Ride_Duration = 71\n",
    "predicted_price = model1.predict(np.array([user_number_of_riders, user_number_of_drivers, user_vehicle_type, Expected_Ride_Duration]))\n",
    "print(\"Predicted price:\", predicted_price)"
   ]
  },
  {
   "cell_type": "code",
   "execution_count": 32,
   "id": "06210ad2-4b29-41d5-b846-10ef2093d650",
   "metadata": {},
   "outputs": [
    {
     "data": {
      "text/html": [
       "<div>\n",
       "<style scoped>\n",
       "    .dataframe tbody tr th:only-of-type {\n",
       "        vertical-align: middle;\n",
       "    }\n",
       "\n",
       "    .dataframe tbody tr th {\n",
       "        vertical-align: top;\n",
       "    }\n",
       "\n",
       "    .dataframe thead th {\n",
       "        text-align: right;\n",
       "    }\n",
       "</style>\n",
       "<table border=\"1\" class=\"dataframe\">\n",
       "  <thead>\n",
       "    <tr style=\"text-align: right;\">\n",
       "      <th></th>\n",
       "      <th>Number_of_Riders</th>\n",
       "      <th>Number_of_Drivers</th>\n",
       "      <th>Location_Category</th>\n",
       "      <th>Customer_Loyalty_Status</th>\n",
       "      <th>Number_of_Past_Rides</th>\n",
       "      <th>Average_Ratings</th>\n",
       "      <th>Time_of_Booking</th>\n",
       "      <th>Vehicle_Type</th>\n",
       "      <th>Expected_Ride_Duration</th>\n",
       "      <th>Historical_Cost_of_Ride</th>\n",
       "      <th>demand_multiplier</th>\n",
       "      <th>supply_multiplier</th>\n",
       "      <th>adjusted_ride_cost</th>\n",
       "      <th>profit_percentage</th>\n",
       "    </tr>\n",
       "  </thead>\n",
       "  <tbody>\n",
       "    <tr>\n",
       "      <th>545</th>\n",
       "      <td>36</td>\n",
       "      <td>8</td>\n",
       "      <td>Urban</td>\n",
       "      <td>Gold</td>\n",
       "      <td>47</td>\n",
       "      <td>4.07</td>\n",
       "      <td>Afternoon</td>\n",
       "      <td>Economy</td>\n",
       "      <td>77</td>\n",
       "      <td>305.01</td>\n",
       "      <td>0.9</td>\n",
       "      <td>1.375</td>\n",
       "      <td>377.449875</td>\n",
       "      <td>23.75</td>\n",
       "    </tr>\n",
       "  </tbody>\n",
       "</table>\n",
       "</div>"
      ],
      "text/plain": [
       "     Number_of_Riders  Number_of_Drivers Location_Category  \\\n",
       "545                36                  8             Urban   \n",
       "\n",
       "    Customer_Loyalty_Status  Number_of_Past_Rides  Average_Ratings  \\\n",
       "545                    Gold                    47             4.07   \n",
       "\n",
       "    Time_of_Booking Vehicle_Type  Expected_Ride_Duration  \\\n",
       "545       Afternoon      Economy                      77   \n",
       "\n",
       "     Historical_Cost_of_Ride  demand_multiplier  supply_multiplier  \\\n",
       "545                   305.01                0.9              1.375   \n",
       "\n",
       "     adjusted_ride_cost  profit_percentage  \n",
       "545          377.449875              23.75  "
      ]
     },
     "execution_count": 32,
     "metadata": {},
     "output_type": "execute_result"
    }
   ],
   "source": [
    "df.sample(n=1)"
   ]
  },
  {
   "cell_type": "markdown",
   "id": "dce6d83a-f49c-4659-ac09-efd4cad1e748",
   "metadata": {},
   "source": [
    "**Hyperparameter Tuning**"
   ]
  },
  {
   "cell_type": "code",
   "execution_count": 33,
   "id": "00cde55b-9606-42b5-845c-e3533c8ca2f7",
   "metadata": {},
   "outputs": [],
   "source": [
    "from sklearn.model_selection import GridSearchCV"
   ]
  },
  {
   "cell_type": "code",
   "execution_count": 34,
   "id": "e8504469-4a1c-49c6-bfa0-51b7b01500ee",
   "metadata": {},
   "outputs": [],
   "source": [
    "param_grid = {\n",
    "    'depth': [4, 6, 8],\n",
    "    'learning_rate': [0.01, 0.05, 0.1],\n",
    "    'iterations': [200, 500, 800],\n",
    "    'l2_leaf_reg': [1, 3, 5]\n",
    "}"
   ]
  },
  {
   "cell_type": "code",
   "execution_count": 35,
   "id": "c200b0ae-ba8f-46e0-bf53-e6e6d1ac4d49",
   "metadata": {},
   "outputs": [],
   "source": [
    "model2 = CatBoostRegressor(cat_features=[2],verbose=0)"
   ]
  },
  {
   "cell_type": "code",
   "execution_count": null,
   "id": "3453cec2-0e30-40df-84d7-0009eff8842c",
   "metadata": {},
   "outputs": [],
   "source": [
    "grid_search = GridSearchCV(\n",
    "    estimator=model2,\n",
    "    param_grid=param_grid,\n",
    "    cv=3,\n",
    "    scoring='r2',\n",
    "    n_jobs=-1\n",
    ")\n",
    "\n",
    "grid_search.fit(x_train, y_train)"
   ]
  },
  {
   "cell_type": "code",
   "execution_count": null,
   "id": "0e283376-de0d-4329-abce-79d937918590",
   "metadata": {},
   "outputs": [],
   "source": [
    "print(\"Best parameters:\", grid_search.best_params_)\n",
    "print(\"Best R2 score:\", grid_search.best_score_)"
   ]
  },
  {
   "cell_type": "code",
   "execution_count": null,
   "id": "4bcc4a11-cfc0-4211-9da4-6e467372c8be",
   "metadata": {},
   "outputs": [],
   "source": []
  }
 ],
 "metadata": {
  "kernelspec": {
   "display_name": "anaconda-panel-2023.05-py310",
   "language": "python",
   "name": "conda-env-anaconda-panel-2023.05-py310-py"
  },
  "language_info": {
   "codemirror_mode": {
    "name": "ipython",
    "version": 3
   },
   "file_extension": ".py",
   "mimetype": "text/x-python",
   "name": "python",
   "nbconvert_exporter": "python",
   "pygments_lexer": "ipython3",
   "version": "3.11.5"
  }
 },
 "nbformat": 4,
 "nbformat_minor": 5
}
